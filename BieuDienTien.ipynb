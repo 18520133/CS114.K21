{
  "nbformat": 4,
  "nbformat_minor": 0,
  "metadata": {
    "colab": {
      "name": "BieuDienTien.ipynb",
      "provenance": [],
      "collapsed_sections": [],
      "authorship_tag": "ABX9TyOwE5ZvEU+lVU06VTtsqyFs",
      "include_colab_link": true
    },
    "kernelspec": {
      "name": "python3",
      "display_name": "Python 3"
    }
  },
  "cells": [
    {
      "cell_type": "markdown",
      "metadata": {
        "id": "view-in-github",
        "colab_type": "text"
      },
      "source": [
        "<a href=\"https://colab.research.google.com/github/18520133/CS114.K21/blob/master/BieuDienTien.ipynb\" target=\"_parent\"><img src=\"https://colab.research.google.com/assets/colab-badge.svg\" alt=\"Open In Colab\"/></a>"
      ]
    },
    {
      "cell_type": "code",
      "metadata": {
        "id": "9SQvYPmR_G5P",
        "colab_type": "code",
        "colab": {}
      },
      "source": [
        "def DocFile():\n",
        "    f1 = open(\"Rules.txt\", \"r\");\n",
        "    f2 = open(\"Hypothesis.txt\", \"r\");\n",
        "\n",
        "\n",
        "    Program = f1.readlines();\n",
        "    facts = f2.readlines();\n",
        "\n",
        "    f1.close();\n",
        "    f2.close();\n",
        "\n",
        "    return Program,facts;\n"
      ],
      "execution_count": 0,
      "outputs": []
    },
    {
      "cell_type": "code",
      "metadata": {
        "id": "DsZvG1YAABp7",
        "colab_type": "code",
        "colab": {}
      },
      "source": [
        "def CreateRules(Program,facts):\n",
        "    P = [];\n",
        "    m = len(Program);\n",
        "\n",
        "    for i in range(0, m):\n",
        "        rule = [];\n",
        "        a = Program[i].split();\n",
        "        GT = [];\n",
        "        for j in range(0,len(a)-1):\n",
        "            GT.append(int(a[j]));\n",
        "        rule.append(GT);\n",
        "\t\n",
        "        KL = [int(a[len(a)-1])];\n",
        "        rule.append(KL);\n",
        "\n",
        "\n",
        "        P.append(rule);\n",
        "\n",
        "    Hypo = [];\n",
        "    n = len(facts);\n",
        "    for i in range(0,n):\n",
        "      a = facts[i].split();\n",
        "      Hypo.append(int(a[0]));\n",
        "\n",
        "    return P, Hypo;\n"
      ],
      "execution_count": 0,
      "outputs": []
    },
    {
      "cell_type": "code",
      "metadata": {
        "id": "xqGTLvEkAHuO",
        "colab_type": "code",
        "colab": {}
      },
      "source": [
        "def SubSet(A, B):\n",
        "    if len(A) <= len(B):\n",
        "        for t in A:\n",
        "            if not(t in B):\n",
        "                return 0;\n",
        "\n",
        "        return 1;\n",
        "    return 0;\n"
      ],
      "execution_count": 0,
      "outputs": []
    },
    {
      "cell_type": "code",
      "metadata": {
        "id": "uEQeINMYBA-0",
        "colab_type": "code",
        "colab": {}
      },
      "source": [
        "def ForwardChaining(P, Hypo):\n",
        "    Known = Hypo;\n",
        "\n",
        "    flag = 1;\n",
        "    while (flag==1):\n",
        "        flag = 0;\n",
        "        for rule in P:\n",
        "             # rule = [[],[kl]];\n",
        "            if not(rule[1][0] in Known) and SubSet(rule[0], Known)==1:\n",
        "                flag = 1;\n",
        "                Known.append(rule[1][0]);\n",
        "\n",
        "    return Known;\n"
      ],
      "execution_count": 0,
      "outputs": []
    },
    {
      "cell_type": "code",
      "metadata": {
        "id": "HN8l3ZBBBFCT",
        "colab_type": "code",
        "colab": {
          "base_uri": "https://localhost:8080/",
          "height": 34
        },
        "outputId": "fe3d6159-8ecd-4229-826a-5a601584f392"
      },
      "source": [
        "if __name__== '__main__':\n",
        "\n",
        "    Program,facts = DocFile();\n",
        "    P, Hypo = CreateRules(Program, facts);\n",
        "    Known = ForwardChaining(P, Hypo);\n",
        "    print(Known);\n"
      ],
      "execution_count": 18,
      "outputs": [
        {
          "output_type": "stream",
          "text": [
            "[0, 1, 3, 2, 4, 7, 6]\n"
          ],
          "name": "stdout"
        }
      ]
    }
  ]
}
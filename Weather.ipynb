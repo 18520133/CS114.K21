{
  "nbformat": 4,
  "nbformat_minor": 0,
  "metadata": {
    "colab": {
      "name": "Untitled0.ipynb",
      "provenance": [],
      "authorship_tag": "ABX9TyPVfVKbh0StpbpSvTTOhgAs",
      "include_colab_link": true
    },
    "kernelspec": {
      "name": "python3",
      "display_name": "Python 3"
    }
  },
  "cells": [
    {
      "cell_type": "markdown",
      "metadata": {
        "id": "view-in-github",
        "colab_type": "text"
      },
      "source": [
        "<a href=\"https://colab.research.google.com/github/18520133/CS114.K21/blob/master/Weather.ipynb\" target=\"_parent\"><img src=\"https://colab.research.google.com/assets/colab-badge.svg\" alt=\"Open In Colab\"/></a>"
      ]
    },
    {
      "cell_type": "code",
      "metadata": {
        "id": "UG4sWjj2m1s4",
        "colab_type": "code",
        "outputId": "9623b003-7b7c-475c-d7ac-241d5029a89c",
        "colab": {
          "base_uri": "https://localhost:8080/",
          "height": 323
        }
      },
      "source": [
        "import requests\n",
        "\n",
        "run = True\n",
        "\n",
        "while run:\n",
        "  print(\"We have about 200.000 cities with the information about their current weather in the database \\n\")\n",
        "  city = input('which city do you want to know : ')\n",
        "\n",
        "  try : \n",
        "    url = 'http://api.openweathermap.org/data/2.5/weather?q={}&appid=a04d860843675aebff2701a3d43d9c95&units=metric'.format(city)\n",
        "    r = requests.get(url)\n",
        "    weather_infor = r.json()\n",
        "\n",
        "    name = weather_infor['name']\n",
        "    condition = weather_infor['weather'][0]['description']\n",
        "    temperature = weather_infor['main']['temp']\n",
        "    humidity = weather_infor['main']['humidity']\t  \n",
        "    output_str =  'City : %s \\nCondition: %s \\nTemperature : %s \\nHumidity : %s\\n' % (name, condition, temperature, humidity)\n",
        "  except:\n",
        "    output_str = \"we don't have information about this city. Please type again!\"\n",
        "  print(output_str)\n",
        "  check = input(\"Do you want to continue ? : (Y/N)\")\n",
        "  if (check == 'N' or check == 'n'):\n",
        "    run = False"
      ],
      "execution_count": 0,
      "outputs": [
        {
          "output_type": "stream",
          "text": [
            "We have about 200.000 cities with the information about their current weather in the database \n",
            "\n",
            "which city do you want to know : Tan An\n",
            "City : Tan An \n",
            "Condition: scattered clouds \n",
            "Temperature : 30 \n",
            "Humidity : 70\n",
            "\n",
            "Do you want to continue ? : (Y/N)y\n",
            "We have about 200.000 cities with the information about their current weather in the database \n",
            "\n",
            "which city do you want to know : Vinh\n",
            "City : Vinh \n",
            "Condition: light rain \n",
            "Temperature : 21.79 \n",
            "Humidity : 93\n",
            "\n",
            "Do you want to continue ? : (Y/N)n\n"
          ],
          "name": "stdout"
        }
      ]
    }
  ]
}
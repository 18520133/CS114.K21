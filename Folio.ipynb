{
  "nbformat": 4,
  "nbformat_minor": 0,
  "metadata": {
    "colab": {
      "name": "Folio.ipynb",
      "provenance": [],
      "collapsed_sections": [],
      "include_colab_link": true
    },
    "kernelspec": {
      "name": "python3",
      "display_name": "Python 3"
    }
  },
  "cells": [
    {
      "cell_type": "markdown",
      "metadata": {
        "id": "view-in-github",
        "colab_type": "text"
      },
      "source": [
        "<a href=\"https://colab.research.google.com/github/18520133/CS114.K21/blob/master/Folio.ipynb\" target=\"_parent\"><img src=\"https://colab.research.google.com/assets/colab-badge.svg\" alt=\"Open In Colab\"/></a>"
      ]
    },
    {
      "cell_type": "code",
      "metadata": {
        "id": "fJjN9V6LXOS9",
        "colab_type": "code",
        "outputId": "fb8a489d-298c-4404-af57-92ef0469d5f9",
        "colab": {
          "base_uri": "https://localhost:8080/",
          "height": 122
        }
      },
      "source": [
        "from google.colab import drive\n",
        "drive.mount('/content/gdrive')"
      ],
      "execution_count": 1,
      "outputs": [
        {
          "output_type": "stream",
          "text": [
            "Go to this URL in a browser: https://accounts.google.com/o/oauth2/auth?client_id=947318989803-6bn6qk8qdgf4n4g3pfee6491hc0brc4i.apps.googleusercontent.com&redirect_uri=urn%3aietf%3awg%3aoauth%3a2.0%3aoob&response_type=code&scope=email%20https%3a%2f%2fwww.googleapis.com%2fauth%2fdocs.test%20https%3a%2f%2fwww.googleapis.com%2fauth%2fdrive%20https%3a%2f%2fwww.googleapis.com%2fauth%2fdrive.photos.readonly%20https%3a%2f%2fwww.googleapis.com%2fauth%2fpeopleapi.readonly\n",
            "\n",
            "Enter your authorization code:\n",
            "··········\n",
            "Mounted at /content/gdrive\n"
          ],
          "name": "stdout"
        }
      ]
    },
    {
      "cell_type": "code",
      "metadata": {
        "id": "Va-ZwJySqI3x",
        "colab_type": "code",
        "colab": {}
      },
      "source": [
        "import cv2\n",
        "import os\n",
        "import glob\n",
        "import numpy as np\n",
        "import mahotas"
      ],
      "execution_count": 0,
      "outputs": []
    },
    {
      "cell_type": "code",
      "metadata": {
        "id": "bE-RSQ1ykDKE",
        "colab_type": "code",
        "colab": {
          "base_uri": "https://localhost:8080/",
          "height": 224
        },
        "outputId": "426adc59-60d1-4b1a-8ed3-406945c17394"
      },
      "source": [
        "!pip install mahotas"
      ],
      "execution_count": 25,
      "outputs": [
        {
          "output_type": "stream",
          "text": [
            "Collecting mahotas\n",
            "\u001b[?25l  Downloading https://files.pythonhosted.org/packages/84/74/bd38163462eb346519f36dc205f0a52a01fb372c7bbcc87392c9b21cfe26/mahotas-1.4.9.tar.gz (1.5MB)\n",
            "\u001b[K     |████████████████████████████████| 1.5MB 2.8MB/s \n",
            "\u001b[?25hRequirement already satisfied: numpy in /usr/local/lib/python3.6/dist-packages (from mahotas) (1.18.3)\n",
            "Building wheels for collected packages: mahotas\n",
            "  Building wheel for mahotas (setup.py) ... \u001b[?25l\u001b[?25hdone\n",
            "  Created wheel for mahotas: filename=mahotas-1.4.9-cp36-cp36m-linux_x86_64.whl size=4265684 sha256=f5cb5202a7ddbbb8f417b67fe2e10f2ff486d42dabddd0e97d501ad12cb0f5fc\n",
            "  Stored in directory: /root/.cache/pip/wheels/02/e7/50/b67eee3b19c479cc5b41f10230bf9c1556be6eaaf095c6e997\n",
            "Successfully built mahotas\n",
            "Installing collected packages: mahotas\n",
            "Successfully installed mahotas-1.4.9\n"
          ],
          "name": "stdout"
        }
      ]
    },
    {
      "cell_type": "code",
      "metadata": {
        "id": "2Eq7dWN2qrS8",
        "colab_type": "code",
        "colab": {}
      },
      "source": [
        "def fd_histogram(image, mask=None):\n",
        "    # chuyển về không gian màu HSV\n",
        "    image = cv2.cvtColor(image, cv2.COLOR_BGR2HSV)\n",
        "    hist  = cv2.calcHist([image], [0, 1, 2], None, [bins, bins, bins], [0, 256, 0, 256, 0, 256])\n",
        "    # normalize histogram\n",
        "    cv2.normalize(hist, hist)\n",
        "    return hist.flatten()"
      ],
      "execution_count": 0,
      "outputs": []
    },
    {
      "cell_type": "code",
      "metadata": {
        "id": "fW7fxOAiunvl",
        "colab_type": "code",
        "colab": {}
      },
      "source": [
        "def fd_hu_moments(image):\n",
        "    # chuyển về ảnh gray\n",
        "    image = cv2.cvtColor(image, cv2.COLOR_BGR2GRAY)\n",
        "    feature = cv2.HuMoments(cv2.moments(image)).flatten()\n",
        "    return feature"
      ],
      "execution_count": 0,
      "outputs": []
    },
    {
      "cell_type": "code",
      "metadata": {
        "id": "cjVFfhYfuvs8",
        "colab_type": "code",
        "colab": {}
      },
      "source": [
        "def fd_haralick(image):\n",
        "    # chuyển về ảnh gray\n",
        "    gray = cv2.cvtColor(image, cv2.COLOR_BGR2GRAY)\n",
        "    haralick = mahotas.features.haralick(gray).mean(axis=0)\n",
        "    return haralick"
      ],
      "execution_count": 0,
      "outputs": []
    },
    {
      "cell_type": "code",
      "metadata": {
        "id": "CinoMNH0u_h9",
        "colab_type": "code",
        "colab": {}
      },
      "source": [
        "bins=8"
      ],
      "execution_count": 0,
      "outputs": []
    },
    {
      "cell_type": "code",
      "metadata": {
        "id": "Y6LbDKObyVFZ",
        "colab_type": "code",
        "colab": {}
      },
      "source": [
        "f_labels=os.listdir('gdrive/My Drive/Folio Leaf Dataset/Folio')"
      ],
      "execution_count": 0,
      "outputs": []
    },
    {
      "cell_type": "code",
      "metadata": {
        "id": "PpGzI3K4fWV-",
        "colab_type": "code",
        "colab": {
          "base_uri": "https://localhost:8080/",
          "height": 561
        },
        "outputId": "8f1957b9-4e31-431c-b09c-cbb1f7d2a690"
      },
      "source": [
        "sl=0\n",
        "labels=[]\n",
        "global_features=[]\n",
        "for dir_path in glob.glob('gdrive/My Drive/Folio Leaf Dataset/Folio/*'):\n",
        "    current_label=dir_path.split('/')[-1]\n",
        "    print(current_label)\n",
        "    for img in glob.glob(os.path.join(dir_path,'*')):\n",
        "        image=cv2.imread(img)\n",
        "        image=cv2.resize(image,(100,100))\n",
        "        sl=sl+1\n",
        "        fv_hu_moments = fd_hu_moments(image)\n",
        "        fv_haralick   = fd_haralick(image)\n",
        "        fv_histogram  = fd_histogram(image)\n",
        "        global_feature = np.hstack([fv_histogram, fv_hu_moments, fv_haralick])\n",
        "        labels.append(current_label)\n",
        "        global_features.append(global_feature)"
      ],
      "execution_count": 41,
      "outputs": [
        {
          "output_type": "stream",
          "text": [
            "thevetia\n",
            "sweet potato\n",
            "star apple\n",
            "pomme jacquot\n",
            "sweet olive\n",
            "pimento\n",
            "rose\n",
            "vieux garcon\n",
            "papaya\n",
            "mulberry leaf\n",
            "ficus\n",
            "jackfruit\n",
            "hibiscus\n",
            "fruitcitere\n",
            "lychee\n",
            "guava\n",
            "geranium\n",
            "ketembilla\n",
            "eggplant\n",
            "duranta gold\n",
            "betel\n",
            "chinese guava\n",
            "bitter orange\n",
            "chrysanthemum\n",
            "caricature plant\n",
            "croton\n",
            "coffee\n",
            "coeur demoiselle\n",
            "chocolate tree\n",
            "beaumier du perou\n",
            "barbados cherry\n",
            "ashanti blood\n"
          ],
          "name": "stdout"
        }
      ]
    },
    {
      "cell_type": "code",
      "metadata": {
        "id": "9wvh62Acf-4F",
        "colab_type": "code",
        "colab": {}
      },
      "source": [
        "from sklearn.model_selection import train_test_split\n",
        "X_train,X_test,y_train,y_test=train_test_split(global_features,labels,test_size=0.3,random_state=101)"
      ],
      "execution_count": 0,
      "outputs": []
    },
    {
      "cell_type": "code",
      "metadata": {
        "id": "e4INoreLn7lW",
        "colab_type": "code",
        "colab": {}
      },
      "source": [
        "from sklearn.preprocessing import LabelEncoder,MinMaxScaler\n",
        "import h5py"
      ],
      "execution_count": 0,
      "outputs": []
    },
    {
      "cell_type": "code",
      "metadata": {
        "id": "DMzTvgnkoAWn",
        "colab_type": "code",
        "colab": {
          "base_uri": "https://localhost:8080/",
          "height": 68
        },
        "outputId": "d5d47078-953a-4f17-a31f-66ea545be54a"
      },
      "source": [
        "# get the overall feature vector size\n",
        "print (\"[STATUS] feature vector size {}\".format(np.array(X_train).shape))\n",
        "\n",
        "# get the overall training label size\n",
        "print (\"[STATUS] training Labels {}\".format(np.array(y_train).shape))\n",
        "\n",
        "# encode the target labels\n",
        "le = LabelEncoder()\n",
        "target = le.fit_transform(y_train)\n",
        "\n",
        "# normalize the feature vector in the range (0-1)\n",
        "scaler = MinMaxScaler(feature_range=(0, 1))\n",
        "rescaled_features = scaler.fit_transform(X_train)\n",
        "\n",
        "# save the feature vector using HDF5\n",
        "h5f_data = h5py.File('data.h5', 'w')\n",
        "h5f_data.create_dataset('dataset_1', data=np.array(rescaled_features))\n",
        "\n",
        "h5f_label = h5py.File('labels.h5', 'w')\n",
        "h5f_label.create_dataset('dataset_1', data=np.array(target))\n",
        "\n",
        "h5f_data.close()\n",
        "h5f_label.close()\n",
        "\n",
        "print(\"[STATUS] end of training..\")"
      ],
      "execution_count": 44,
      "outputs": [
        {
          "output_type": "stream",
          "text": [
            "[STATUS] feature vector size (445, 532)\n",
            "[STATUS] training Labels (445,)\n",
            "[STATUS] end of training..\n"
          ],
          "name": "stdout"
        }
      ]
    },
    {
      "cell_type": "code",
      "metadata": {
        "id": "xkWhqUjSoDzM",
        "colab_type": "code",
        "colab": {}
      },
      "source": [
        "num_trees=300"
      ],
      "execution_count": 0,
      "outputs": []
    },
    {
      "cell_type": "code",
      "metadata": {
        "id": "rMgqzBR7oH4P",
        "colab_type": "code",
        "colab": {}
      },
      "source": [
        "h5f_data = h5py.File('data.h5', 'r')\n",
        "h5f_label = h5py.File('labels.h5', 'r')\n",
        "\n",
        "global_features_string = h5f_data['dataset_1']\n",
        "global_labels_string = h5f_label['dataset_1']\n",
        "\n",
        "global_features = np.array(global_features_string)\n",
        "global_labels = np.array(global_labels_string)\n",
        "\n",
        "h5f_data.close()\n",
        "h5f_label.close()"
      ],
      "execution_count": 0,
      "outputs": []
    },
    {
      "cell_type": "code",
      "metadata": {
        "id": "XcXXUH-voMbd",
        "colab_type": "code",
        "colab": {}
      },
      "source": [
        "from sklearn.ensemble import RandomForestClassifier"
      ],
      "execution_count": 0,
      "outputs": []
    },
    {
      "cell_type": "code",
      "metadata": {
        "id": "u4EVyaNFoSF8",
        "colab_type": "code",
        "colab": {
          "base_uri": "https://localhost:8080/",
          "height": 153
        },
        "outputId": "92f0e2eb-527a-4142-a2f2-3dc2513945bb"
      },
      "source": [
        "clf  = RandomForestClassifier(n_estimators=num_trees)\n",
        "clf.fit(global_features, global_labels)"
      ],
      "execution_count": 48,
      "outputs": [
        {
          "output_type": "execute_result",
          "data": {
            "text/plain": [
              "RandomForestClassifier(bootstrap=True, ccp_alpha=0.0, class_weight=None,\n",
              "                       criterion='gini', max_depth=None, max_features='auto',\n",
              "                       max_leaf_nodes=None, max_samples=None,\n",
              "                       min_impurity_decrease=0.0, min_impurity_split=None,\n",
              "                       min_samples_leaf=1, min_samples_split=2,\n",
              "                       min_weight_fraction_leaf=0.0, n_estimators=300,\n",
              "                       n_jobs=None, oob_score=False, random_state=None,\n",
              "                       verbose=0, warm_start=False)"
            ]
          },
          "metadata": {
            "tags": []
          },
          "execution_count": 48
        }
      ]
    },
    {
      "cell_type": "code",
      "metadata": {
        "id": "SxAu57ZGoWNA",
        "colab_type": "code",
        "colab": {}
      },
      "source": [
        "le=LabelEncoder()"
      ],
      "execution_count": 0,
      "outputs": []
    },
    {
      "cell_type": "code",
      "metadata": {
        "id": "SFyPf8byoZJb",
        "colab_type": "code",
        "colab": {}
      },
      "source": [
        "y_result=le.fit_transform(y_test)\n",
        "y_pred=clf.predict(X_test)"
      ],
      "execution_count": 0,
      "outputs": []
    },
    {
      "cell_type": "code",
      "metadata": {
        "id": "eUoc4_hBofkt",
        "colab_type": "code",
        "colab": {
          "base_uri": "https://localhost:8080/",
          "height": 34
        },
        "outputId": "aa1acbf9-eedd-4498-9cbb-bbbef0533bcb"
      },
      "source": [
        "print(\"Result: \", (y_pred == y_result).tolist().count(True)/len(y_result))"
      ],
      "execution_count": 51,
      "outputs": [
        {
          "output_type": "stream",
          "text": [
            "Result:  0.5677083333333334\n"
          ],
          "name": "stdout"
        }
      ]
    },
    {
      "cell_type": "code",
      "metadata": {
        "id": "rEd4OWS5ok-P",
        "colab_type": "code",
        "colab": {}
      },
      "source": [
        "from sklearn.metrics import confusion_matrix,classification_report"
      ],
      "execution_count": 0,
      "outputs": []
    },
    {
      "cell_type": "code",
      "metadata": {
        "id": "oQLJNfvBonvD",
        "colab_type": "code",
        "colab": {}
      },
      "source": [
        "print(confusion_matrix(y_result,y_pred))"
      ],
      "execution_count": 0,
      "outputs": []
    },
    {
      "cell_type": "code",
      "metadata": {
        "id": "Y10nYQ3foqf9",
        "colab_type": "code",
        "colab": {
          "base_uri": "https://localhost:8080/",
          "height": 734
        },
        "outputId": "78f1d55c-1fad-4a09-c002-f4725bf232b7"
      },
      "source": [
        "print(classification_report(y_result,y_pred))"
      ],
      "execution_count": 53,
      "outputs": [
        {
          "output_type": "stream",
          "text": [
            "              precision    recall  f1-score   support\n",
            "\n",
            "           0       0.50      1.00      0.67         4\n",
            "           1       0.32      1.00      0.48         7\n",
            "           2       0.33      0.20      0.25         5\n",
            "           3       0.54      1.00      0.70         7\n",
            "           4       0.24      1.00      0.38         4\n",
            "           5       1.00      0.50      0.67         4\n",
            "           6       0.50      0.17      0.25         6\n",
            "           7       0.19      1.00      0.32         3\n",
            "           8       0.70      0.88      0.78         8\n",
            "           9       0.67      0.80      0.73         5\n",
            "          10       0.31      1.00      0.48         5\n",
            "          11       0.60      1.00      0.75         3\n",
            "          12       1.00      0.50      0.67         8\n",
            "          13       1.00      0.17      0.29         6\n",
            "          14       1.00      0.75      0.86         8\n",
            "          15       1.00      0.25      0.40         4\n",
            "          16       1.00      0.11      0.20         9\n",
            "          17       1.00      0.50      0.67         8\n",
            "          18       0.00      0.00      0.00         6\n",
            "          19       1.00      0.71      0.83         7\n",
            "          20       0.20      0.33      0.25         6\n",
            "          21       1.00      0.86      0.92         7\n",
            "          22       0.00      0.00      0.00         5\n",
            "          23       0.83      0.71      0.77         7\n",
            "          24       1.00      0.56      0.71         9\n",
            "          25       0.00      0.00      0.00         5\n",
            "          26       1.00      0.29      0.44         7\n",
            "          27       0.33      0.20      0.25         5\n",
            "          28       1.00      0.33      0.50         3\n",
            "          29       1.00      0.88      0.93         8\n",
            "          30       1.00      1.00      1.00         7\n",
            "          31       1.00      0.50      0.67         6\n",
            "\n",
            "    accuracy                           0.57       192\n",
            "   macro avg       0.66      0.57      0.53       192\n",
            "weighted avg       0.71      0.57      0.55       192\n",
            "\n"
          ],
          "name": "stdout"
        },
        {
          "output_type": "stream",
          "text": [
            "/usr/local/lib/python3.6/dist-packages/sklearn/metrics/_classification.py:1272: UndefinedMetricWarning: Precision and F-score are ill-defined and being set to 0.0 in labels with no predicted samples. Use `zero_division` parameter to control this behavior.\n",
            "  _warn_prf(average, modifier, msg_start, len(result))\n"
          ],
          "name": "stderr"
        }
      ]
    }
  ]
}